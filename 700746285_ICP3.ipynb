{
  "nbformat": 4,
  "nbformat_minor": 0,
  "metadata": {
    "colab": {
      "provenance": []
    },
    "kernelspec": {
      "name": "python3",
      "display_name": "Python 3"
    },
    "language_info": {
      "name": "python"
    }
  },
  "cells": [
    {
      "cell_type": "code",
      "execution_count": 4,
      "metadata": {
        "colab": {
          "base_uri": "https://localhost:8080/"
        },
        "id": "t9cHH7i3uTL2",
        "outputId": "55e76a9e-0ab8-4c06-bf97-36c325ed92da"
      },
      "outputs": [
        {
          "output_type": "stream",
          "name": "stdout",
          "text": [
            "37000.0\n",
            "37000.0\n",
            "4\n"
          ]
        }
      ],
      "source": [
        "# 1. Create a class Employee and then do the following\n",
        "# • Create a data member to count the number of Employees\n",
        "# • Create a constructor to initialize name, family, salary, department\n",
        "# • Create a function to average salary\n",
        "# • Create a Fulltime Employee class and it should inherit the properties of Employee class\n",
        "# • Create the instances of Fulltime Employee class and Employee class and call their member functions.\n",
        "\n",
        "# Declare class as Employee\n",
        "class Employee:\n",
        "  emp_count = 0\n",
        "\n",
        "# Intialization of constructor\n",
        "  def __init__(self, name, family, salary, department):\n",
        "\n",
        "        self.name = name\n",
        "        self.family = family\n",
        "        self.salary = salary\n",
        "        self.department = department\n",
        "        Employee.emp_count = Employee.emp_count + 1\n",
        "\n",
        "# Declaration of function as avg_sal\n",
        "  def avg_sal(self, emps):\n",
        "      sum_sal = 0\n",
        "      for i in emps:\n",
        "            sum_sal= sum_sal+ i.salary\n",
        "\n",
        "# Print salary\n",
        "      print(sum_sal/len(emps))\n",
        "\n",
        "# Declaration of class as Fulltime_Employee\n",
        "class Fulltime_Employee(Employee):\n",
        "\n",
        "      def __init__(self, name, family, salary, department):\n",
        "         Employee.__init__(self, name, family, salary, department)\n",
        "\n",
        "list = []\n",
        "list.append(Employee('John', 'Kate', 30000, 'IT'))\n",
        "list.append(Employee('Richard', 'Julie', 45000, 'Sales'))\n",
        "\n",
        "list.append(Fulltime_Employee('Jack', 'Ivy', 23000, 'Design'))\n",
        "list.append(Fulltime_Employee('Jane', 'Leo', 50000, 'Gaming'))\n",
        "\n",
        "list[0].avg_sal(list)\n",
        "list[2].avg_sal(list)\n",
        "\n",
        "# Print employee count\n",
        "print(Employee.emp_count)\n"
      ]
    },
    {
      "cell_type": "code",
      "source": [
        "# 2. Numpy\n",
        "# Using NumPy create random vector of size 20 having only float in the range 1-20.\n",
        "# Then reshape the array to 4 by 5\n",
        "# Then replace the max in each row by 0 (axis=1)\n",
        "# (you can NOT implement it via for loop)\n",
        "\n",
        "# import numpy library\n",
        "import numpy as np\n",
        "\n",
        "# Create random vector of size 20 with floats between 1 and 20\n",
        "vector = np.random.uniform(1, 20, 20)\n",
        "\n",
        "# Reshape the vector to 4 by 5\n",
        "mat = vector.reshape(4, 5)\n",
        "\n",
        "# Replace the max in each row by 0\n",
        "mat[np.arange(4), mat.argmax(axis=1)] = 0\n",
        "\n",
        "# Print the output\n",
        "print(mat)\n"
      ],
      "metadata": {
        "colab": {
          "base_uri": "https://localhost:8080/"
        },
        "id": "pXC7_LMDyQp5",
        "outputId": "f9db77bc-4e96-4caf-a273-fb34197888d7"
      },
      "execution_count": 5,
      "outputs": [
        {
          "output_type": "stream",
          "name": "stdout",
          "text": [
            "[[10.95664238 14.28097644 16.29323857 17.71955387  0.        ]\n",
            " [14.56232884 10.56426253  0.          1.02990358  8.85785968]\n",
            " [12.88158556  2.76852214  0.         15.2933596  13.19111113]\n",
            " [ 2.33162456  4.0276034   1.26309591 13.98289395  0.        ]]\n"
          ]
        }
      ]
    }
  ]
}